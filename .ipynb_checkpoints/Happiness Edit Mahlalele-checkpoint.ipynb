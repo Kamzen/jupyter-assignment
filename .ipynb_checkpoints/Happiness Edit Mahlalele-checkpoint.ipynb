{
 "cells": [
  {
   "cell_type": "markdown",
   "id": "3b6dd06d",
   "metadata": {},
   "source": [
    "HAPPINESS EDIT MAHLALELE"
   ]
  },
  {
   "cell_type": "code",
   "execution_count": 32,
   "id": "9744f094",
   "metadata": {},
   "outputs": [
    {
     "name": "stdout",
     "output_type": "stream",
     "text": [
      "Enter Seocnds To Convert : 10000000\n",
      "16 Week(s),  3 Day(s),  17 Hour(s),  46 Minute(s), 40 Second(s) "
     ]
    }
   ],
   "source": [
    "\n",
    "def convert_sec(seconds):\n",
    "    \n",
    "    \n",
    "    \n",
    "    if seconds < 60:\n",
    "        \n",
    "        print(str(seconds) + \" Second(s) \", end=\" \")\n",
    "    \n",
    "    elif seconds >= 60 and seconds < 3600:\n",
    "        \n",
    "        minutes = int(seconds / 60)\n",
    "        seconds = seconds % 60\n",
    "        print(str(minutes) + \" Minute(s), \" + str(seconds) + \" Second(s)\", end=\" \")\n",
    "    \n",
    "    elif seconds >= 3600 and seconds < 86400:\n",
    "        \n",
    "        hours = int(seconds / 3600)\n",
    "        seconds = seconds % 3600\n",
    "        print(str(hours) + \" Hour(s), \", end=\" \")\n",
    "        \n",
    "        #Call The Function Again\n",
    "        convert_sec(seconds)\n",
    "        \n",
    "    elif seconds >= 86400 and seconds < 604800:\n",
    "        \n",
    "        days = int(seconds / 86400)\n",
    "        seconds = seconds % 86400\n",
    "        print(str(days) + \" Day(s), \", end=\" \")\n",
    "        convert_sec(seconds)\n",
    "        \n",
    "    elif seconds >= 604800:\n",
    "        \n",
    "        weeks = int(seconds / 604800)\n",
    "        seconds = seconds % 604800\n",
    "        print(str(weeks) + \" Week(s), \", end=\" \")\n",
    "        convert_sec(seconds)\n",
    "        \n",
    "        \n",
    "        \n",
    "    \n",
    "#     entered = seconds\n",
    "    \n",
    "#     if seconds < 60:\n",
    "        \n",
    "#         print(str(seconds) + \" = \" + str(seconds) + \" second(s)\")\n",
    "        \n",
    "#     elif seconds >= 60 and seconds < 3600:\n",
    "        \n",
    "#         minutes = int(seconds / 60)\n",
    "#         seconds = seconds % 60;\n",
    "#         print(str(minutes) + \" Minute(s), \" + str(seconds) + \" Second(s)\")\n",
    "        \n",
    "#     elif seconds >= 3600 and seconds < 86400:\n",
    "#         hours = int(seconds / 3600)\n",
    "#         seconds = seconds % 3600\n",
    "#         if seconds < 60:\n",
    "            \n",
    "#             print(str(entered) + \" = \" + str(hours) + \" Hour(s), \" + str(seconds) + \" seconds\")\n",
    "            \n",
    "#         elif seconds >= 60 and seconds < 3600:\n",
    "            \n",
    "#             minutes = int(seconds / 60)\n",
    "#             seconds = seconds % 60;\n",
    "#             print(str(entered) + \" = \" + str(hours) + \" Hours, \" + str(minutes) + \" Minutes, \"\n",
    "#                  + str(seconds) + \" Seconds\")\n",
    "    \n",
    "#     elif seconds >= 86400 and seconds < 604800:\n",
    "        \n",
    "#         days = int(seconds / 86400 )\n",
    "#         seconds = seconds % 86400\n",
    "        \n",
    "#         if seconds < 60:\n",
    "            \n",
    "#             print(str(entered) + \" = \" + str(days) + \" Day(s), \" + str(seconds) + \" Seconds\")\n",
    "            \n",
    "#         elif seconds >= 60 and seconds < 3600:\n",
    "            \n",
    "#             minutes = int(seconds / 60)\n",
    "#             seconds = seconds % 60;\n",
    "#             print(str(entered) + \" = \" + str(days) + \" Day(s), \" + str(minutes) + \" Minutes, \"\n",
    "#                  + str(seconds\n",
    "#                       ) + \" Seconds\")\n",
    "            \n",
    "#         elif seconds >= 3600 and seconds < 86400:\n",
    "            \n",
    "#             hours = int(seconds / 3600)\n",
    "#             seconds = seconds % 3600\n",
    "            \n",
    "#             if seconds < 60:\n",
    "                \n",
    "#                 print(str(entered) + \" = \" + str(days) + \" Day(s), \" + str(seconds) + \n",
    "#                      \" Seconds\")\n",
    "                \n",
    "#             elif seconds >= 60 and seconds < 3600:\n",
    "                \n",
    "#                 minutes = int(seconds / 60)\n",
    "#                 seconds = seconds % 60;\n",
    "#                 print(str(entered) + \" = \" + str(days) + \" Day(s), \" + str(minutes) + \" Minute(s), \"\n",
    "#                      + str(seconds) + \" Seconds\")\n",
    "                \n",
    "        \n",
    "        \n",
    "            \n",
    "        \n",
    "seconds = int(input(\"Enter Seocnds To Convert : \"))\n",
    "convert_sec(seconds)"
   ]
  },
  {
   "cell_type": "code",
   "execution_count": 4,
   "id": "f8bd7a09",
   "metadata": {},
   "outputs": [
    {
     "name": "stdout",
     "output_type": "stream",
     "text": [
      "********PIZZA MENU*********\n",
      "1. CHEESE PIZZA - R150\n",
      "2. SPINASH PIZZA -R210\n",
      "3. CHICKEN PIZZA - R275\n",
      "4. CANCEL\n",
      "***************************\n",
      "Please Select FROM BY SELECTING EITHER 1,2, or 3: 2\n",
      "Please Enter Quantity For The Item: 6\n",
      "CHICKEN PIZZA x 6 = R1650\n"
     ]
    }
   ],
   "source": [
    "\n",
    "\n",
    "def main():\n",
    "    #Parallel Array For The Items And Prices\n",
    "    items = [\"CHEESE PIZZA\", \"SPINASH PIZZA\", \"CHICKEN PIZZA\"]\n",
    "    prices = [150,210,275]\n",
    "    #Displaying The Menu\n",
    "    print(\"********PIZZA MENU*********\\n1. CHEESE PIZZA - R150\\n2. SPINASH PIZZA -\" \n",
    "          + \"R210\\n3. CHICKEN PIZZA - R275\\n4. CANCEL\\n***************************\")\n",
    "    option = int(input(\"Please Select FROM BY SELECTING EITHER 1,2, or 3: \"))\n",
    "    \n",
    "    if option != 4:\n",
    "        \n",
    "        quantity = int(input(\"Please Enter Quantity For The Item: \"))\n",
    "        total = prices[option] * quantity;\n",
    "        print(items[option] + \" x \" + str(quantity) + \" = R\" + str(total))\n",
    "        \n",
    "        \n",
    "    elif option == 4:\n",
    "        \n",
    "        return\n",
    "    \n",
    "    else:\n",
    "        \n",
    "        print(\"Invalid Input\")\n",
    "        \n",
    "    \n",
    "main()"
   ]
  },
  {
   "cell_type": "code",
   "execution_count": 20,
   "id": "46c00c6d",
   "metadata": {},
   "outputs": [
    {
     "name": "stdout",
     "output_type": "stream",
     "text": [
      "*********\n",
      " *\t*\n",
      "  *\t*\n",
      "   *\t*\n",
      "    *\t*\n",
      "     ****\n"
     ]
    }
   ],
   "source": [
    "print(\"*********\\n *\\t*\\n  *\\t*\\n   *\\t*\\n    *\\t*\\n     ****\")"
   ]
  },
  {
   "cell_type": "markdown",
   "id": "906b0778",
   "metadata": {},
   "source": [
    "Yes, you can draw it using only one print function"
   ]
  },
  {
   "cell_type": "code",
   "execution_count": 49,
   "id": "ff64e2de",
   "metadata": {},
   "outputs": [
    {
     "name": "stdout",
     "output_type": "stream",
     "text": [
      "Please Enter The Value Of x : 3\n",
      "Please Enter The Value Of y : 9\n",
      "h(3.0,9.0) = -6.0\n"
     ]
    }
   ],
   "source": [
    "import math\n",
    "x = float(input(\"Please Enter The Value Of x : \"))\n",
    "y = float(input(\"Please Enter The Value Of y : \"))\n",
    "\n",
    "if x < 0:\n",
    "    h = math.cos(math.pi*y)\n",
    "    print(\"h(\" + str(x) + \",\" + str(y) + \") = \" + str(h))\n",
    "elif x >= 0 and x < 1:\n",
    "    h = abs(x - y)\n",
    "    print(\"h(\" + str(x) + \",\" + str(y) + \") = \" + str(h))\n",
    "elif x >= 1 and x < 2:\n",
    "    h = 2 - x**2*y\n",
    "    print(\"h(\" + str(x) + \",\" + str(y) + \") = \" + str(h))\n",
    "elif x >= 2:\n",
    "    math.e**(-y)/math.sqrt(1 + x**2)\n",
    "    print(\"h(\" + str(x) + \",\" + str(y) + \") = \" + str(h))"
   ]
  },
  {
   "cell_type": "code",
   "execution_count": 83,
   "id": "909689b4",
   "metadata": {},
   "outputs": [
    {
     "name": "stdout",
     "output_type": "stream",
     "text": [
      "6 Showed Up 1 Times\n"
     ]
    }
   ],
   "source": [
    "from random import randint\n",
    "count = 0\n",
    "\n",
    "for i in range(5):\n",
    "    roll = randint(1,6)\n",
    "    if(roll == 6):\n",
    "        count += 1;\n",
    "print(\"6 Showed Up \" + str(count) + \" Times\")"
   ]
  },
  {
   "cell_type": "code",
   "execution_count": null,
   "id": "2c2705a3",
   "metadata": {},
   "outputs": [],
   "source": []
  },
  {
   "cell_type": "code",
   "execution_count": null,
   "id": "e30225ca",
   "metadata": {},
   "outputs": [],
   "source": []
  },
  {
   "cell_type": "code",
   "execution_count": null,
   "id": "a6f4aa1d",
   "metadata": {},
   "outputs": [],
   "source": []
  }
 ],
 "metadata": {
  "kernelspec": {
   "display_name": "Python 3 (ipykernel)",
   "language": "python",
   "name": "python3"
  },
  "language_info": {
   "codemirror_mode": {
    "name": "ipython",
    "version": 3
   },
   "file_extension": ".py",
   "mimetype": "text/x-python",
   "name": "python",
   "nbconvert_exporter": "python",
   "pygments_lexer": "ipython3",
   "version": "3.9.5"
  }
 },
 "nbformat": 4,
 "nbformat_minor": 5
}
